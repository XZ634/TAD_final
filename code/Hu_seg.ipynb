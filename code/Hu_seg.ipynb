{
 "cells": [
  {
   "cell_type": "code",
   "execution_count": 1,
   "id": "374d42ba-3671-4c28-b7e4-2f7d5dd083eb",
   "metadata": {},
   "outputs": [
    {
     "name": "stdout",
     "output_type": "stream",
     "text": [
      "['我', '爱', '北京', '天安门']\n"
     ]
    }
   ],
   "source": [
    "import pkuseg\n",
    "\n",
    "seg = pkuseg.pkuseg()           # 以默认配置加载模型\n",
    "text = seg.cut('我爱北京天安门')  # 进行分词\n",
    "print(text)"
   ]
  },
  {
   "cell_type": "code",
   "execution_count": 3,
   "id": "2239cdd3-cd7e-4d43-935f-6ca5d490a99f",
   "metadata": {},
   "outputs": [
    {
     "name": "stdout",
     "output_type": "stream",
     "text": [
      "                                            sentence  doc\n",
      "0  建立毕节开发扶贫生态建设试验区.（一九八八年六月八日）建立开发扶贫、生态建设试验区的设想，是...  Hu1\n",
      "1                                      我省是全国最贫困的省份之一  Hu1\n",
      "2  党的十一届三中全会以来,我省经济社会有了很大发展，但由于经济基础薄弱，各种客观条件制约，加上...  Hu1\n",
      "3           就省内而言，一个贫困，一个生态恶化，仍然是严重困扰我省经济社会发展的两大突出问题  Hu1\n",
      "4  实践告诉我们，在同样的政策条件下，贫困地区与发达地区在经济社会发展上存在着效益上的差距,其结...  Hu1\n"
     ]
    }
   ],
   "source": [
    "import pandas as pd\n",
    "\n",
    "df = pd.read_csv('Hu.csv')\n",
    "\n",
    "# 查看前几行数据\n",
    "print(df.head())"
   ]
  },
  {
   "cell_type": "code",
   "execution_count": 6,
   "id": "7cfa8c11-e901-431f-9478-1e29719c163f",
   "metadata": {},
   "outputs": [],
   "source": [
    "seg = pkuseg.pkuseg(model_name='news')  # 使用默认配置加载模型"
   ]
  },
  {
   "cell_type": "code",
   "execution_count": 7,
   "id": "ad79e751-06a4-4a7d-a208-46ea2ade4462",
   "metadata": {},
   "outputs": [],
   "source": [
    "# 3. 对每一行进行分词，并用空格连接\n",
    "df['sentence'] = df['sentence'].astype(str).apply(lambda x: ' '.join(seg.cut(x)))\n",
    "\n",
    "# 4. 保存为新的 CSV 文件\n",
    "df.to_csv('Hu_seg.csv', index=False, encoding='utf-8-sig')"
   ]
  }
 ],
 "metadata": {
  "kernelspec": {
   "display_name": "Python 3 (ipykernel)",
   "language": "python",
   "name": "python3"
  },
  "language_info": {
   "codemirror_mode": {
    "name": "ipython",
    "version": 3
   },
   "file_extension": ".py",
   "mimetype": "text/x-python",
   "name": "python",
   "nbconvert_exporter": "python",
   "pygments_lexer": "ipython3",
   "version": "3.10.14"
  }
 },
 "nbformat": 4,
 "nbformat_minor": 5
}
