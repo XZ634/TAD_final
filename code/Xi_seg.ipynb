{
 "cells": [
  {
   "cell_type": "code",
   "execution_count": 5,
   "id": "374d42ba-3671-4c28-b7e4-2f7d5dd083eb",
   "metadata": {},
   "outputs": [
    {
     "name": "stdout",
     "output_type": "stream",
     "text": [
      "['我', '爱', '北京', '天安门']\n"
     ]
    }
   ],
   "source": [
    "import pkuseg\n",
    "\n",
    "seg = pkuseg.pkuseg()           # 以默认配置加载模型\n",
    "text = seg.cut('我爱北京天安门')  # 进行分词\n",
    "print(text)"
   ]
  },
  {
   "cell_type": "code",
   "execution_count": 7,
   "id": "2239cdd3-cd7e-4d43-935f-6ca5d490a99f",
   "metadata": {},
   "outputs": [
    {
     "name": "stdout",
     "output_type": "stream",
     "text": [
      "                                   title        date  \\\n",
      "0                 进一步全面深化改革中的几个重大理论和实践问题  2025-01-15   \n",
      "1                 以中国式现代化全面推进强国建设、民族复兴伟业  2025-01-02   \n",
      "2                         在全国政协新年茶话会上的讲话  2025-01-01   \n",
      "3                     国家主席习近平发表二〇二五年新年贺词  2025-01-01   \n",
      "4  在庆祝澳门回归祖国二十五周年大会暨澳门特别行政区第六届政府就职典礼上的讲话  2024-12-21   \n",
      "\n",
      "                                                text  speech  \\\n",
      "0  党中央举办这次省部级主要领导干部学习贯彻党的二十届三中全会精神专题研讨班，是为了进一步统一思...       1   \n",
      "1  党中央决定举办这次新进中央委员会的委员、候补委员和省部级主要领导干部学习贯彻新时代中国特色社...       1   \n",
      "2  同志们，朋友们： 今天，我们在这里欢聚一堂，畅叙友情，共商国是，一起辞旧迎新。 首先，我代表...       1   \n",
      "3  大家好！时间过得很快，新的一年即将到来，我在北京向大家致以美好的祝福！ 2024年，我们一起...       1   \n",
      "4  同胞们，朋友们： 今天，我们在这里隆重集会，庆祝澳门回归祖国25周年，举行澳门特别行政区第六...       1   \n",
      "\n",
      "                                        url  text_length               type  \n",
      "0  https://jhsjk.people.cn/article/40402616         4142  speech transcript  \n",
      "1  https://jhsjk.people.cn/article/40394251        11771  speech transcript  \n",
      "2  https://jhsjk.people.cn/article/40393512         1029  speech transcript  \n",
      "3  https://jhsjk.people.cn/article/40393508         2385  speech transcript  \n",
      "4  https://jhsjk.people.cn/article/40386855         3465  speech transcript  \n"
     ]
    }
   ],
   "source": [
    "import pandas as pd\n",
    "\n",
    "df = pd.read_csv('clean.csv')\n",
    "\n",
    "# 查看前几行数据\n",
    "print(df.head())"
   ]
  },
  {
   "cell_type": "code",
   "execution_count": 9,
   "id": "7cfa8c11-e901-431f-9478-1e29719c163f",
   "metadata": {},
   "outputs": [
    {
     "name": "stderr",
     "output_type": "stream",
     "text": [
      "Downloading: \"https://github.com/lancopku/pkuseg-python/releases/download/v0.0.16/news.zip\" to /Users/xiangming/.pkuseg/news.zip\n",
      "100%|█████████████████████████| 43767759/43767759 [00:01<00:00, 41675008.46it/s]\n"
     ]
    }
   ],
   "source": [
    "seg = pkuseg.pkuseg(model_name='news')  # 使用默认配置加载模型"
   ]
  },
  {
   "cell_type": "code",
   "execution_count": 11,
   "id": "ad79e751-06a4-4a7d-a208-46ea2ade4462",
   "metadata": {},
   "outputs": [],
   "source": [
    "# 3. 对每一行进行分词，并用空格连接\n",
    "df['text'] = df['text'].astype(str).apply(lambda x: ' '.join(seg.cut(x)))\n",
    "\n",
    "# 4. 保存为新的 CSV 文件\n",
    "df.to_csv('clean_seg.csv', index=False, encoding='utf-8-sig')"
   ]
  }
 ],
 "metadata": {
  "kernelspec": {
   "display_name": "Python 3 (ipykernel)",
   "language": "python",
   "name": "python3"
  },
  "language_info": {
   "codemirror_mode": {
    "name": "ipython",
    "version": 3
   },
   "file_extension": ".py",
   "mimetype": "text/x-python",
   "name": "python",
   "nbconvert_exporter": "python",
   "pygments_lexer": "ipython3",
   "version": "3.10.14"
  }
 },
 "nbformat": 4,
 "nbformat_minor": 5
}
