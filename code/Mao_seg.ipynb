{
 "cells": [
  {
   "cell_type": "code",
   "execution_count": 1,
   "id": "374d42ba-3671-4c28-b7e4-2f7d5dd083eb",
   "metadata": {},
   "outputs": [
    {
     "name": "stdout",
     "output_type": "stream",
     "text": [
      "['我', '爱', '北京', '天安门']\n"
     ]
    }
   ],
   "source": [
    "import pkuseg\n",
    "\n",
    "seg = pkuseg.pkuseg()           # 以默认配置加载模型\n",
    "text = seg.cut('我爱北京天安门')  # 进行分词\n",
    "print(text)"
   ]
  },
  {
   "cell_type": "code",
   "execution_count": 3,
   "id": "2239cdd3-cd7e-4d43-935f-6ca5d490a99f",
   "metadata": {},
   "outputs": [
    {
     "name": "stdout",
     "output_type": "stream",
     "text": [
      "                                      sentence   doc\n",
      "0                                   中国社会各阶级的分析  Mao1\n",
      "1                                 （一九二五年十二月一日）  Mao1\n",
      "2                     毛泽东此文是为反对当时党内存在着的两种倾向而写的  Mao1\n",
      "3  当时党内的第一种倾向，以陈独秀为代表，只注意同国民党合作，忘记了农民，这是右倾机会主义  Mao1\n",
      "4     第二种倾向，以张国焘为代表，只注意工人运动，同样忘记了农民，这是“左”倾机会主义  Mao1\n"
     ]
    }
   ],
   "source": [
    "import pandas as pd\n",
    "\n",
    "df = pd.read_csv('Mao.csv')\n",
    "\n",
    "# 查看前几行数据\n",
    "print(df.head())"
   ]
  },
  {
   "cell_type": "code",
   "execution_count": 5,
   "id": "7cfa8c11-e901-431f-9478-1e29719c163f",
   "metadata": {},
   "outputs": [],
   "source": [
    "seg = pkuseg.pkuseg(model_name='news')  # 使用默认配置加载模型"
   ]
  },
  {
   "cell_type": "code",
   "execution_count": 7,
   "id": "ad79e751-06a4-4a7d-a208-46ea2ade4462",
   "metadata": {},
   "outputs": [],
   "source": [
    "# 3. 对每一行进行分词，并用空格连接\n",
    "df['sentence'] = df['sentence'].astype(str).apply(lambda x: ' '.join(seg.cut(x)))\n",
    "\n",
    "# 4. 保存为新的 CSV 文件\n",
    "df.to_csv('Mao_seg.csv', index=False, encoding='utf-8-sig')"
   ]
  }
 ],
 "metadata": {
  "kernelspec": {
   "display_name": "Python 3 (ipykernel)",
   "language": "python",
   "name": "python3"
  },
  "language_info": {
   "codemirror_mode": {
    "name": "ipython",
    "version": 3
   },
   "file_extension": ".py",
   "mimetype": "text/x-python",
   "name": "python",
   "nbconvert_exporter": "python",
   "pygments_lexer": "ipython3",
   "version": "3.10.14"
  }
 },
 "nbformat": 4,
 "nbformat_minor": 5
}
